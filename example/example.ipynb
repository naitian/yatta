{
 "cells": [
  {
   "cell_type": "code",
   "execution_count": 1,
   "id": "f686dd77-fbea-477e-91e2-0a80fbb4d370",
   "metadata": {},
   "outputs": [],
   "source": [
    "%load_ext autoreload\n",
    "%autoreload 2\n",
    "from yatta.core import Yatta\n",
    "from yatta.jupyter.widget import YattaWidget"
   ]
  },
  {
   "cell_type": "code",
   "execution_count": 2,
   "id": "7021055f-2e50-4e11-b9fc-ab62c4afd6ad",
   "metadata": {},
   "outputs": [
    {
     "name": "stdout",
     "output_type": "stream",
     "text": [
      "/Users/naitian/Documents/Projects/yatta2/yatta/base/textbox/index.js\n"
     ]
    }
   ],
   "source": [
    "from yatta.distributor import AllDistributor\n",
    "from yatta.base import Textbox, TextDisplay, Checkboxes\n",
    "\n",
    "yatta = Yatta(\n",
    "    dataset=[\n",
    "        {\"text\": \"Hello, world!\"},\n",
    "        {\"text\": \"Goodbye, world!\"},\n",
    "        {\"text\": \"Hello, again!\"},\n",
    "        {\"text\": \"Goodbye, again!\"},\n",
    "        {\"text\": \"Hello, one more time!\"},\n",
    "    ],\n",
    "    task={\n",
    "        \"text\": TextDisplay(transform_fn=lambda x: x[\"text\"]),\n",
    "        \"annotation\": Textbox(placeholder=\"Type notes here...\"),\n",
    "        \"choices\": Checkboxes(choices=[\"Hello\", \"Goodbye\"]),\n",
    "    },\n",
    "    distributor=AllDistributor,\n",
    "    ordering=iter,\n",
    ")\n",
    "\n",
    "with yatta.session():\n",
    "    # clear annotations\n",
    "    # from yatta.core.models import AnnotationAssignment\n",
    "    # from sqlalchemy import delete\n",
    "    # yatta._session.exec(delete(AnnotationAssignment).where(True))\n",
    "    yatta.assign_tasks()\n",
    "    yatta.assign_all_orderings()\n"
   ]
  },
  {
   "cell_type": "code",
   "execution_count": 3,
   "id": "a32cc222-527e-416a-a385-f57cb4cfbdfe",
   "metadata": {},
   "outputs": [
    {
     "name": "stdout",
     "output_type": "stream",
     "text": [
      "{'text': None, 'annotation': None, 'choices': ['Goodbye']}\n"
     ]
    }
   ],
   "source": [
    "with yatta.session():\n",
    "    print(yatta.list_users()[0].assignments[0].annotation)"
   ]
  },
  {
   "cell_type": "code",
   "execution_count": 4,
   "id": "aefb28f9-d2a4-48b0-80ca-8f827cb55544",
   "metadata": {},
   "outputs": [
    {
     "name": "stdout",
     "output_type": "stream",
     "text": [
      "env: ANYWIDGET_HMR=1\n",
      "AHHHHOOOOOHHH\n",
      "YEAHHH\n",
      "GET IT\n"
     ]
    },
    {
     "data": {
      "application/vnd.jupyter.widget-view+json": {
       "model_id": "841839d0be004f83b21110b8cb990063",
       "version_major": 2,
       "version_minor": 1
      },
      "text/plain": [
       "YattaWidget(assignment={'components': {'text': {'datum': 'Hello, world!', 'annotation': None}, 'annotation': {…"
      ]
     },
     "execution_count": 4,
     "metadata": {},
     "output_type": "execute_result"
    }
   ],
   "source": [
    "%env ANYWIDGET_HMR=1\n",
    "def _():\n",
    "    with yatta.session():\n",
    "        user = yatta.list_users()[0]\n",
    "        y = YattaWidget(yatta, user)\n",
    "        return y\n",
    "widget = _()\n",
    "widget"
   ]
  },
  {
   "cell_type": "code",
   "execution_count": 5,
   "id": "6239e883-3ac3-4c03-9bee-a8ec6720f4ac",
   "metadata": {},
   "outputs": [
    {
     "data": {
      "text/plain": [
       "{}"
      ]
     },
     "execution_count": 5,
     "metadata": {},
     "output_type": "execute_result"
    }
   ],
   "source": [
    "widget.result"
   ]
  },
  {
   "cell_type": "code",
   "execution_count": 6,
   "id": "80407d66-b670-44ec-9d84-f6282f01f862",
   "metadata": {},
   "outputs": [
    {
     "data": {
      "text/plain": [
       "{'components': {'text': {'datum': 'Hello, world!', 'annotation': None},\n",
       "  'annotation': {'datum': {'text': 'Hello, world!'}, 'annotation': None},\n",
       "  'choices': {'datum': {'text': 'Hello, world!'}, 'annotation': ['Goodbye']}},\n",
       " 'is_complete': True,\n",
       " 'is_skipped': False,\n",
       " 'next': 1,\n",
       " 'prev': None}"
      ]
     },
     "execution_count": 6,
     "metadata": {},
     "output_type": "execute_result"
    }
   ],
   "source": [
    "widget.assignment"
   ]
  },
  {
   "cell_type": "code",
   "execution_count": null,
   "id": "0a2616cb-5fb3-4bc6-8528-aeb1c7ed7987",
   "metadata": {},
   "outputs": [],
   "source": []
  }
 ],
 "metadata": {
  "kernelspec": {
   "display_name": "Python 3 (ipykernel)",
   "language": "python",
   "name": "python3"
  },
  "language_info": {
   "codemirror_mode": {
    "name": "ipython",
    "version": 3
   },
   "file_extension": ".py",
   "mimetype": "text/x-python",
   "name": "python",
   "nbconvert_exporter": "python",
   "pygments_lexer": "ipython3",
   "version": "3.11.8"
  }
 },
 "nbformat": 4,
 "nbformat_minor": 5
}
